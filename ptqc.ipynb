{
 "cells": [
  {
   "cell_type": "code",
   "execution_count": 52,
   "id": "024d01e7",
   "metadata": {},
   "outputs": [],
   "source": [
    "import matplotlib.pyplot as plt\n",
    "import numpy as np\n",
    "import qiskit.quantum_info as qi\n",
    "import qiskit as qk\n",
    "import qiskit.visualization as qv\n"
   ]
  },
  {
   "cell_type": "code",
   "execution_count": 53,
   "id": "47be33dd",
   "metadata": {},
   "outputs": [
    {
     "data": {
      "text/plain": [
       "<module 'ptqc' from '/home/dwuggh/Documents/ustc/ptqc/ptqc.py'>"
      ]
     },
     "execution_count": 53,
     "metadata": {},
     "output_type": "execute_result"
    }
   ],
   "source": [
    "import ptqc\n",
    "import importlib\n",
    "importlib.reload(ptqc)"
   ]
  },
  {
   "cell_type": "code",
   "execution_count": 55,
   "id": "48ba0f51",
   "metadata": {},
   "outputs": [],
   "source": [
    "rho = ptqc.RCDM(8, 0.005)"
   ]
  },
  {
   "cell_type": "code",
   "execution_count": 56,
   "id": "9592614f",
   "metadata": {},
   "outputs": [
    {
     "data": {
      "text/plain": [
       "[<matplotlib.lines.Line2D at 0x7f6a51595490>]"
      ]
     },
     "execution_count": 56,
     "metadata": {},
     "output_type": "execute_result"
    },
    {
     "data": {
      "image/png": "[encoded data removed]",
      "text/plain": [
       "<Figure size 432x288 with 1 Axes>"
      ]
     },
     "metadata": {
      "needs_background": "light"
     },
     "output_type": "display_data"
    }
   ],
   "source": [
    "ents = rho.evolve(1000)\n",
    "plt.plot(ents)"
   ]
  },
  {
   "cell_type": "code",
   "execution_count": 57,
   "id": "8f0c4bc8",
   "metadata": {},
   "outputs": [
    {
     "name": "stdout",
     "output_type": "stream",
     "text": [
      "DensityMatrix([[ 6.24883900e-02+1.71778282e-18j,\n",
      "                -5.27127088e-05+4.09240195e-04j,\n",
      "                -3.17682548e-04+3.86756400e-05j, ...,\n",
      "                -1.05156332e-04+3.48226094e-04j,\n",
      "                -2.37891174e-04-3.24178026e-04j,\n",
      "                -7.14806150e-04-7.74430457e-04j],\n",
      "               [-5.27127088e-05-4.09240195e-04j,\n",
      "                 3.05010196e-03-4.47233396e-19j,\n",
      "                -4.57541239e-04+3.01762858e-05j, ...,\n",
      "                 1.88742095e-04+2.85997310e-04j,\n",
      "                -1.93038050e-04+6.57272650e-05j,\n",
      "                -2.28921946e-04+1.65525834e-04j],\n",
      "               [-3.17682548e-04-3.86756400e-05j,\n",
      "                -4.57541239e-04-3.01762858e-05j,\n",
      "                 3.85056603e-03+2.03287907e-19j, ...,\n",
      "                 1.06473178e-04+4.23894672e-04j,\n",
      "                 1.77006115e-04+7.84323771e-04j,\n",
      "                 9.92528535e-05-2.12153731e-04j],\n",
      "               ...,\n",
      "               [-1.05156332e-04-3.48226094e-04j,\n",
      "                 1.88742095e-04-2.85997310e-04j,\n",
      "                 1.06473178e-04-4.23894672e-04j, ...,\n",
      "                 3.33492656e-03-8.13151629e-19j,\n",
      "                 1.80458765e-04+2.42764248e-04j,\n",
      "                 1.02433321e-04+2.02997889e-04j],\n",
      "               [-2.37891174e-04+3.24178026e-04j,\n",
      "                -1.93038050e-04-6.57272650e-05j,\n",
      "                 1.77006115e-04-7.84323771e-04j, ...,\n",
      "                 1.80458765e-04-2.42764248e-04j,\n",
      "                 3.62905212e-03+1.03168613e-18j,\n",
      "                -2.78102837e-04-4.57019604e-05j],\n",
      "               [-7.14806150e-04+7.74430457e-04j,\n",
      "                -2.28921946e-04-1.65525834e-04j,\n",
      "                 9.92528535e-05+2.12153731e-04j, ...,\n",
      "                 1.02433321e-04-2.02997889e-04j,\n",
      "                -2.78102837e-04+4.57019604e-05j,\n",
      "                 6.08891880e-02+1.07784943e-18j]],\n",
      "              dims=(2, 2, 2, 2, 2, 2, 2, 2))\n"
     ]
    }
   ],
   "source": [
    "rho.state"
   ]
  },
  {
   "cell_type": "code",
   "execution_count": 27,
   "id": "2713bfdb",
   "metadata": {},
   "outputs": [
    {
     "name": "stdout",
     "output_type": "stream",
     "text": [
      "DensityMatrix([[ 0.01400137+0.00000000e+00j, -0.00014148+1.15703757e-03j,\n",
      "                -0.00108763-1.32531907e-03j, ...,\n",
      "                -0.00027081+1.05245320e-03j, -0.00045374-9.67999072e-04j,\n",
      "                -0.00068326-1.16811974e-03j],\n",
      "               [-0.00014148-1.15703757e-03j,  0.01724827+0.00000000e+00j,\n",
      "                 0.00034213+1.04178862e-03j, ...,\n",
      "                 0.00011191+1.08643939e-03j, -0.00170951-2.38362717e-05j,\n",
      "                -0.00018578+3.36555294e-03j],\n",
      "               [-0.00108763+1.32531907e-03j,  0.00034213-1.04178862e-03j,\n",
      "                 0.01546149+0.00000000e+00j, ...,\n",
      "                 0.00104136+3.75431337e-04j, -0.00166271+3.13034256e-03j,\n",
      "                -0.00015947+3.87896058e-04j],\n",
      "               ...,\n",
      "               [-0.00027081-1.05245320e-03j,  0.00011191-1.08643939e-03j,\n",
      "                 0.00104136-3.75431337e-04j, ...,\n",
      "                 0.01629143+0.00000000e+00j,  0.00143803+2.27668007e-03j,\n",
      "                 0.00067964-2.04589169e-03j],\n",
      "               [-0.00045374+9.67999072e-04j, -0.00170951+2.38362717e-05j,\n",
      "                -0.00166271-3.13034256e-03j, ...,\n",
      "                 0.00143803-2.27668007e-03j,  0.01581633+0.00000000e+00j,\n",
      "                -0.00071503-3.41456762e-03j],\n",
      "               [-0.00068326+1.16811974e-03j, -0.00018578-3.36555294e-03j,\n",
      "                -0.00015947-3.87896058e-04j, ...,\n",
      "                 0.00067964+2.04589169e-03j, -0.00071503+3.41456762e-03j,\n",
      "                 0.01684148+0.00000000e+00j]],\n",
      "              dims=(2, 2, 2, 2, 2, 2))\n"
     ]
    }
   ],
   "source": [
    "r"
   ]
  },
  {
   "cell_type": "code",
   "execution_count": 48,
   "id": "e63b8abc",
   "metadata": {},
   "outputs": [
    {
     "name": "stdout",
     "output_type": "stream",
     "text": [
      "DensityMatrix([[ 0.01400137+0.00000000e+00j, -0.00100479-1.35463578e-03j,\n",
      "                 0.00027928+2.72216484e-04j, ...,\n",
      "                -0.00185155+1.27761235e-03j, -0.0005622 +5.63533561e-05j,\n",
      "                -0.00068326-1.16811974e-03j],\n",
      "               [-0.00100479+1.35463578e-03j,  0.01903734+1.08420217e-19j,\n",
      "                -0.00165689-3.13672667e-04j, ...,\n",
      "                 0.00123988-2.28768094e-04j,  0.00012175+1.19984161e-03j,\n",
      "                 0.00133989-3.17393028e-03j],\n",
      "               [ 0.00027928-2.72216484e-04j, -0.00165689+3.13672667e-04j,\n",
      "                 0.0151408 -7.58941521e-19j, ...,\n",
      "                 0.00120552+4.91491385e-03j,  0.00109363+6.73468637e-04j,\n",
      "                 0.00078703-1.13883123e-03j],\n",
      "               ...,\n",
      "               [-0.00185155-1.27761235e-03j,  0.00123988+2.28768094e-04j,\n",
      "                 0.00120552-4.91491385e-03j, ...,\n",
      "                 0.01738658+1.13841228e-18j, -0.00035627-6.02868360e-04j,\n",
      "                 0.00020946-2.50968665e-03j],\n",
      "               [-0.0005622 -5.63533561e-05j,  0.00012175-1.19984161e-03j,\n",
      "                 0.00109363-6.73468637e-04j, ...,\n",
      "                -0.00035627+6.02868360e-04j,  0.0150752 +9.75781955e-19j,\n",
      "                -0.00178917-4.78392190e-04j],\n",
      "               [-0.00068326+1.16811974e-03j,  0.00133989+3.17393028e-03j,\n",
      "                 0.00078703+1.13883123e-03j, ...,\n",
      "                 0.00020946+2.50968665e-03j, -0.00178917+4.78392190e-04j,\n",
      "                 0.01684148+0.00000000e+00j]],\n",
      "              dims=(2, 2, 2, 2, 2, 2))\n"
     ]
    }
   ],
   "source": [
    "r = r.evolve(ptqc.haar(), [0, 1, 2])\n",
    "r"
   ]
  },
  {
   "cell_type": "code",
   "execution_count": 42,
   "id": "370ee755",
   "metadata": {},
   "outputs": [
    {
     "data": {
      "text/plain": [
       "True"
      ]
     },
     "execution_count": 42,
     "metadata": {},
     "output_type": "execute_result"
    }
   ],
   "source": [
    "ptqc.haar().is_unitary()"
   ]
  },
  {
   "cell_type": "code",
   "execution_count": 185,
   "id": "21fc2091",
   "metadata": {},
   "outputs": [],
   "source": [
    "chan = ptqc.zz_pm()"
   ]
  },
  {
   "cell_type": "code",
   "execution_count": 187,
   "id": "c04f88c7",
   "metadata": {},
   "outputs": [
    {
     "data": {
      "text/plain": [
       "Kraus([[[1.+0.j, 0.+0.j, 0.+0.j, 0.+0.j],\n",
       "        [0.+0.j, 0.+0.j, 0.+0.j, 0.+0.j],\n",
       "        [0.+0.j, 0.+0.j, 0.+0.j, 0.+0.j],\n",
       "        [0.+0.j, 0.+0.j, 0.+0.j, 1.+0.j]],\n",
       "\n",
       "       [[0.+0.j, 0.+0.j, 1.+0.j, 0.+0.j],\n",
       "        [0.+0.j, 0.+0.j, 0.+0.j, 0.+0.j],\n",
       "        [0.+0.j, 0.+0.j, 0.+0.j, 0.+0.j],\n",
       "        [0.+0.j, 1.+0.j, 0.+0.j, 0.+0.j]]],\n",
       "      input_dims=(2, 2), output_dims=(2, 2))"
      ]
     },
     "execution_count": 187,
     "metadata": {},
     "output_type": "execute_result"
    }
   ],
   "source": [
    "chan"
   ]
  },
  {
   "cell_type": "code",
   "execution_count": 182,
   "id": "b6294adb",
   "metadata": {},
   "outputs": [],
   "source": [
    "op2 = np.mat([\n",
    "        [0, 0, 0, 0],\n",
    "        [0, 0, 0, 1],\n",
    "        [1, 0, 0, 0],\n",
    "        [0, 0, 0, 0],\n",
    "        ])\n"
   ]
  },
  {
   "cell_type": "code",
   "execution_count": 183,
   "id": "f9bdd72e",
   "metadata": {},
   "outputs": [
    {
     "data": {
      "text/plain": [
       "matrix([[1, 0, 0, 0],\n",
       "        [0, 0, 0, 0],\n",
       "        [0, 0, 0, 0],\n",
       "        [0, 0, 0, 1]])"
      ]
     },
     "execution_count": 183,
     "metadata": {},
     "output_type": "execute_result"
    }
   ],
   "source": [
    "np.matmul(, op2)"
   ]
  },
  {
   "cell_type": "code",
   "execution_count": null,
   "id": "3110cfd2",
   "metadata": {},
   "outputs": [],
   "source": []
  }
 ],
 "metadata": {
  "kernelspec": {
   "display_name": "Python 3",
   "language": "python",
   "name": "python3"
  },
  "language_info": {
   "codemirror_mode": {
    "name": "ipython",
    "version": 3
   },
   "file_extension": ".py",
   "mimetype": "text/x-python",
   "name": "python",
   "nbconvert_exporter": "python",
   "pygments_lexer": "ipython3",
   "version": "3.8.2"
  }
 },
 "nbformat": 4,
 "nbformat_minor": 5
}
