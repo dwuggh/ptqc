{
 "cells": [
  {
   "cell_type": "code",
   "execution_count": 23,
   "id": "57ed32a8",
   "metadata": {},
   "outputs": [],
   "source": [
    "import matplotlib.pyplot as plt\n",
    "import numpy as np\n",
    "import qiskit.quantum_info as qi\n",
    "import qiskit as qk\n",
    "import qiskit.visualization as qv\n"
   ]
  },
  {
   "cell_type": "code",
   "execution_count": 9,
   "id": "2a92b584",
   "metadata": {},
   "outputs": [
    {
     "data": {
      "text/plain": [
       "<module 'ptqc' from '/home/dwuggh/Documents/ustc/ptqc/ptqc.py'>"
      ]
     },
     "execution_count": 9,
     "metadata": {},
     "output_type": "execute_result"
    }
   ],
   "source": [
    "import ptqc\n",
    "import importlib\n",
    "importlib.reload(ptqc)"
   ]
  },
  {
   "cell_type": "code",
   "execution_count": 21,
   "id": "a6864f0f",
   "metadata": {},
   "outputs": [],
   "source": [
    "rho = ptqc.RCDM(0.005)"
   ]
  },
  {
   "cell_type": "code",
   "execution_count": 13,
   "id": "f909456b",
   "metadata": {},
   "outputs": [
    {
     "data": {
      "text/plain": [
       "[<matplotlib.lines.Line2D at 0x7f6aac9efee0>]"
      ]
     },
     "execution_count": 13,
     "metadata": {},
     "output_type": "execute_result"
    },
    {
     "data": {
      "image/png": "[encoded data removed]",
      "text/plain": [
       "<Figure size 432x288 with 1 Axes>"
      ]
     },
     "metadata": {
      "needs_background": "light"
     },
     "output_type": "display_data"
    }
   ],
   "source": [
    "ents = rho.evolve(10000)\n",
    "plt.plot(ents)"
   ]
  },
  {
   "cell_type": "code",
   "execution_count": 25,
   "id": "87471101",
   "metadata": {},
   "outputs": [],
   "source": [
    "r = qi.random_density_matrix(64)"
   ]
  },
  {
   "cell_type": "code",
   "execution_count": 27,
   "id": "ce8ac5e1",
   "metadata": {},
   "outputs": [
    {
     "name": "stdout",
     "output_type": "stream",
     "text": [
      "DensityMatrix([[ 0.01400137+0.00000000e+00j, -0.00014148+1.15703757e-03j,\n",
      "                -0.00108763-1.32531907e-03j, ...,\n",
      "                -0.00027081+1.05245320e-03j, -0.00045374-9.67999072e-04j,\n",
      "                -0.00068326-1.16811974e-03j],\n",
      "               [-0.00014148-1.15703757e-03j,  0.01724827+0.00000000e+00j,\n",
      "                 0.00034213+1.04178862e-03j, ...,\n",
      "                 0.00011191+1.08643939e-03j, -0.00170951-2.38362717e-05j,\n",
      "                -0.00018578+3.36555294e-03j],\n",
      "               [-0.00108763+1.32531907e-03j,  0.00034213-1.04178862e-03j,\n",
      "                 0.01546149+0.00000000e+00j, ...,\n",
      "                 0.00104136+3.75431337e-04j, -0.00166271+3.13034256e-03j,\n",
      "                -0.00015947+3.87896058e-04j],\n",
      "               ...,\n",
      "               [-0.00027081-1.05245320e-03j,  0.00011191-1.08643939e-03j,\n",
      "                 0.00104136-3.75431337e-04j, ...,\n",
      "                 0.01629143+0.00000000e+00j,  0.00143803+2.27668007e-03j,\n",
      "                 0.00067964-2.04589169e-03j],\n",
      "               [-0.00045374+9.67999072e-04j, -0.00170951+2.38362717e-05j,\n",
      "                -0.00166271-3.13034256e-03j, ...,\n",
      "                 0.00143803-2.27668007e-03j,  0.01581633+0.00000000e+00j,\n",
      "                -0.00071503-3.41456762e-03j],\n",
      "               [-0.00068326+1.16811974e-03j, -0.00018578-3.36555294e-03j,\n",
      "                -0.00015947-3.87896058e-04j, ...,\n",
      "                 0.00067964+2.04589169e-03j, -0.00071503+3.41456762e-03j,\n",
      "                 0.01684148+0.00000000e+00j]],\n",
      "              dims=(2, 2, 2, 2, 2, 2))\n"
     ]
    }
   ],
   "source": [
    "r"
   ]
  },
  {
   "cell_type": "code",
   "execution_count": 48,
   "id": "c5099ec6",
   "metadata": {},
   "outputs": [
    {
     "name": "stdout",
     "output_type": "stream",
     "text": [
      "DensityMatrix([[ 0.01400137+0.00000000e+00j, -0.00100479-1.35463578e-03j,\n",
      "                 0.00027928+2.72216484e-04j, ...,\n",
      "                -0.00185155+1.27761235e-03j, -0.0005622 +5.63533561e-05j,\n",
      "                -0.00068326-1.16811974e-03j],\n",
      "               [-0.00100479+1.35463578e-03j,  0.01903734+1.08420217e-19j,\n",
      "                -0.00165689-3.13672667e-04j, ...,\n",
      "                 0.00123988-2.28768094e-04j,  0.00012175+1.19984161e-03j,\n",
      "                 0.00133989-3.17393028e-03j],\n",
      "               [ 0.00027928-2.72216484e-04j, -0.00165689+3.13672667e-04j,\n",
      "                 0.0151408 -7.58941521e-19j, ...,\n",
      "                 0.00120552+4.91491385e-03j,  0.00109363+6.73468637e-04j,\n",
      "                 0.00078703-1.13883123e-03j],\n",
      "               ...,\n",
      "               [-0.00185155-1.27761235e-03j,  0.00123988+2.28768094e-04j,\n",
      "                 0.00120552-4.91491385e-03j, ...,\n",
      "                 0.01738658+1.13841228e-18j, -0.00035627-6.02868360e-04j,\n",
      "                 0.00020946-2.50968665e-03j],\n",
      "               [-0.0005622 -5.63533561e-05j,  0.00012175-1.19984161e-03j,\n",
      "                 0.00109363-6.73468637e-04j, ...,\n",
      "                -0.00035627+6.02868360e-04j,  0.0150752 +9.75781955e-19j,\n",
      "                -0.00178917-4.78392190e-04j],\n",
      "               [-0.00068326+1.16811974e-03j,  0.00133989+3.17393028e-03j,\n",
      "                 0.00078703+1.13883123e-03j, ...,\n",
      "                 0.00020946+2.50968665e-03j, -0.00178917+4.78392190e-04j,\n",
      "                 0.01684148+0.00000000e+00j]],\n",
      "              dims=(2, 2, 2, 2, 2, 2))\n"
     ]
    }
   ],
   "source": [
    "r = r.evolve(ptqc.haar(), [0, 1, 2])\n",
    "r"
   ]
  },
  {
   "cell_type": "code",
   "execution_count": 42,
   "id": "475584c9",
   "metadata": {},
   "outputs": [
    {
     "data": {
      "text/plain": [
       "True"
      ]
     },
     "execution_count": 42,
     "metadata": {},
     "output_type": "execute_result"
    }
   ],
   "source": [
    "ptqc.haar().is_unitary()"
   ]
  },
  {
   "cell_type": "code",
   "execution_count": 185,
   "id": "d25b5e41",
   "metadata": {},
   "outputs": [],
   "source": [
    "chan = ptqc.zz_pm()"
   ]
  },
  {
   "cell_type": "code",
   "execution_count": 187,
   "id": "8f10e2ed",
   "metadata": {},
   "outputs": [
    {
     "data": {
      "text/plain": [
       "Kraus([[[1.+0.j, 0.+0.j, 0.+0.j, 0.+0.j],\n",
       "        [0.+0.j, 0.+0.j, 0.+0.j, 0.+0.j],\n",
       "        [0.+0.j, 0.+0.j, 0.+0.j, 0.+0.j],\n",
       "        [0.+0.j, 0.+0.j, 0.+0.j, 1.+0.j]],\n",
       "\n",
       "       [[0.+0.j, 0.+0.j, 1.+0.j, 0.+0.j],\n",
       "        [0.+0.j, 0.+0.j, 0.+0.j, 0.+0.j],\n",
       "        [0.+0.j, 0.+0.j, 0.+0.j, 0.+0.j],\n",
       "        [0.+0.j, 1.+0.j, 0.+0.j, 0.+0.j]]],\n",
       "      input_dims=(2, 2), output_dims=(2, 2))"
      ]
     },
     "execution_count": 187,
     "metadata": {},
     "output_type": "execute_result"
    }
   ],
   "source": [
    "chan"
   ]
  },
  {
   "cell_type": "code",
   "execution_count": 182,
   "id": "4aad1b7f",
   "metadata": {},
   "outputs": [],
   "source": [
    "op2 = np.mat([\n",
    "        [0, 0, 0, 0],\n",
    "        [0, 0, 0, 1],\n",
    "        [1, 0, 0, 0],\n",
    "        [0, 0, 0, 0],\n",
    "        ])\n"
   ]
  },
  {
   "cell_type": "code",
   "execution_count": 183,
   "id": "b10a93c3",
   "metadata": {},
   "outputs": [
    {
     "data": {
      "text/plain": [
       "matrix([[1, 0, 0, 0],\n",
       "        [0, 0, 0, 0],\n",
       "        [0, 0, 0, 0],\n",
       "        [0, 0, 0, 1]])"
      ]
     },
     "execution_count": 183,
     "metadata": {},
     "output_type": "execute_result"
    }
   ],
   "source": [
    "np.matmul(, op2)"
   ]
  },
  {
   "cell_type": "code",
   "execution_count": null,
   "id": "21b30ccc",
   "metadata": {},
   "outputs": [],
   "source": []
  }
 ],
 "metadata": {
  "kernelspec": {
   "display_name": "Python 3",
   "language": "python",
   "name": "python3"
  },
  "language_info": {
   "codemirror_mode": {
    "name": "ipython",
    "version": 3
   },
   "file_extension": ".py",
   "mimetype": "text/x-python",
   "name": "python",
   "nbconvert_exporter": "python",
   "pygments_lexer": "ipython3",
   "version": "3.8.2"
  }
 },
 "nbformat": 4,
 "nbformat_minor": 5
}
